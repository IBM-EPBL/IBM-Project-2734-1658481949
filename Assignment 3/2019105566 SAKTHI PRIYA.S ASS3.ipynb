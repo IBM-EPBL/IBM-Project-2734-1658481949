{
  "metadata": {
    "language_info": {
      "codemirror_mode": {
        "name": "python",
        "version": 3
      },
      "file_extension": ".py",
      "mimetype": "text/x-python",
      "name": "python",
      "nbconvert_exporter": "python",
      "pygments_lexer": "ipython3",
      "version": "3.8"
    },
    "kernelspec": {
      "name": "python",
      "display_name": "Python (Pyodide)",
      "language": "python"
    }
  },
  "nbformat_minor": 4,
  "nbformat": 4,
  "cells": [
    {
      "cell_type": "markdown",
      "source": "Exercises\nAnswer the questions or complete the tasks outlined in bold below, use the specific method described if applicable.\n\nWhat is 7 to the power of 4?",
      "metadata": {}
    },
    {
      "cell_type": "code",
      "source": "7**4",
      "metadata": {
        "trusted": true
      },
      "execution_count": 1,
      "outputs": [
        {
          "execution_count": 1,
          "output_type": "execute_result",
          "data": {
            "text/plain": "2401"
          },
          "metadata": {}
        }
      ]
    },
    {
      "cell_type": "markdown",
      "source": "Split this string:\n\ns = \"Hi there Sam!\"\n\ninto a list.",
      "metadata": {}
    },
    {
      "cell_type": "code",
      "source": "s = \"Hi there Sam!\"\ns.split()",
      "metadata": {
        "trusted": true
      },
      "execution_count": 2,
      "outputs": [
        {
          "execution_count": 2,
          "output_type": "execute_result",
          "data": {
            "text/plain": "['Hi', 'there', 'Sam!']"
          },
          "metadata": {}
        }
      ]
    },
    {
      "cell_type": "code",
      "source": "s = \"Hi there dad!\"\ns.split()",
      "metadata": {
        "trusted": true
      },
      "execution_count": 3,
      "outputs": [
        {
          "execution_count": 3,
          "output_type": "execute_result",
          "data": {
            "text/plain": "['Hi', 'there', 'dad!']"
          },
          "metadata": {}
        }
      ]
    },
    {
      "cell_type": "markdown",
      "source": "Given the variables:\n\nplanet = \"Earth\"\ndiameter = 12742\n\nUse .format() to print the following string:\n\nThe diameter of Earth is 12742 kilometers.",
      "metadata": {}
    },
    {
      "cell_type": "code",
      "source": "print(\"The diameter of {} is {} kilometers.\".format(\"Earth\",12742))",
      "metadata": {
        "trusted": true
      },
      "execution_count": 4,
      "outputs": [
        {
          "name": "stdout",
          "text": "The diameter of Earth is 12742 kilometers.\n",
          "output_type": "stream"
        }
      ]
    },
    {
      "cell_type": "markdown",
      "source": "Given this nested list, use indexing to grab the word \"hello\"",
      "metadata": {}
    },
    {
      "cell_type": "code",
      "source": "lst = [1,2,[3,4],[5,[100,200,['hello']],23,11],1,7]\nstr=lst[3][1][2]\nstr[0]",
      "metadata": {
        "trusted": true
      },
      "execution_count": 5,
      "outputs": [
        {
          "execution_count": 5,
          "output_type": "execute_result",
          "data": {
            "text/plain": "'hello'"
          },
          "metadata": {}
        }
      ]
    },
    {
      "cell_type": "markdown",
      "source": "Given this nest dictionary grab the word \"hello\". Be prepared, this will be annoying/tricky",
      "metadata": {}
    },
    {
      "cell_type": "code",
      "source": "d = {'k1':[1,2,3,{'tricky':['oh','man','inception',{'target':[1,2,3,'hello']}]}]}\ndic=d['k1'][3]\ndic['tricky'][3]['target'][3]",
      "metadata": {
        "trusted": true
      },
      "execution_count": 6,
      "outputs": [
        {
          "execution_count": 6,
          "output_type": "execute_result",
          "data": {
            "text/plain": "'hello'"
          },
          "metadata": {}
        }
      ]
    },
    {
      "cell_type": "markdown",
      "source": "What is the main difference between a tuple and a list?",
      "metadata": {}
    },
    {
      "cell_type": "markdown",
      "source": "TUPLE:\n* Tuples are immutable.\n* Tuples use parenthesis() to define its elements.\n\nLIST:\n* List is mutable.\n* List use square brackets[] to define its elements.",
      "metadata": {}
    },
    {
      "cell_type": "markdown",
      "source": "Create a function that grabs the email website domain from a string in the form:\n\nuser@domain.com\n\nSo for example, passing \"user@domain.com\" would return: domain.com",
      "metadata": {}
    },
    {
      "cell_type": "code",
      "source": "str=\"user@domain.com\"\nx=str.split(\"@\")\nx[-1]",
      "metadata": {
        "trusted": true
      },
      "execution_count": 7,
      "outputs": [
        {
          "execution_count": 7,
          "output_type": "execute_result",
          "data": {
            "text/plain": "'domain.com'"
          },
          "metadata": {}
        }
      ]
    },
    {
      "cell_type": "markdown",
      "source": "Create a basic function that returns True if the word 'dog' is contained in the input string. \nDon't worry about edge cases like a punctuation being attached to the word dog, but do account for capitalization.",
      "metadata": {}
    },
    {
      "cell_type": "code",
      "source": "def fun(str):\n x=str.split()\n for word in x:\n     if word=='dog' or word==\"dog,\" or word==\"dog.\" or word==\".dog\" or word == \",dog\":\n        return True \n return False\n\n\nstr=\"dog is a domestic animal\"\nfun(str)",
      "metadata": {
        "trusted": true
      },
      "execution_count": 9,
      "outputs": [
        {
          "execution_count": 9,
          "output_type": "execute_result",
          "data": {
            "text/plain": "True"
          },
          "metadata": {}
        }
      ]
    },
    {
      "cell_type": "markdown",
      "source": "Create a function that counts the number of times the word \"dog\" occurs in a string. Again ignore edge cases.",
      "metadata": {}
    },
    {
      "cell_type": "code",
      "source": "def fun(str):\n x=str.split()\n c=0\n for word in x:\n      if word=='dog' or word==\"dog,\" or word==\"dog.\" or word==\".dog\" or word == \",dog\":\n        c=c+1\n return c;\n   \nstr=\"dog is a domestic animal. dog has 4 legs.\"\nfun(str)",
      "metadata": {
        "trusted": true
      },
      "execution_count": 10,
      "outputs": [
        {
          "execution_count": 10,
          "output_type": "execute_result",
          "data": {
            "text/plain": "2"
          },
          "metadata": {}
        }
      ]
    },
    {
      "cell_type": "markdown",
      "source": "Problem\nYou are driving a little too fast, and a police officer stops you. Write a function to return one of 3 possible results: \"No ticket\", \"Small ticket\", or \"Big Ticket\". If your speed is 60 or less, the result is \"No Ticket\". If speed is between 61 and 80 inclusive, the result is \"Small Ticket\". If speed is 81 or more, the result is \"Big Ticket\". Unless it is your birthday (encoded as a boolean value in the parameters of the function) -- on your birthday, your speed can be 5 higher in all cases.",
      "metadata": {}
    },
    {
      "cell_type": "code",
      "source": "def caught_speeding(speed, is_birthday):\n    \n    if is_birthday:\n        speeding = speed - 5\n    else:\n        speeding = speed\n    \n    if speeding > 80:\n        return 'Big Ticket'\n    elif speeding > 60:\n        return 'Small Ticket'\n    else:\n        return 'No Ticket'",
      "metadata": {
        "trusted": true
      },
      "execution_count": 11,
      "outputs": []
    },
    {
      "cell_type": "code",
      "source": "caught_speeding(85,0)",
      "metadata": {
        "trusted": true
      },
      "execution_count": 12,
      "outputs": [
        {
          "execution_count": 12,
          "output_type": "execute_result",
          "data": {
            "text/plain": "'Big Ticket'"
          },
          "metadata": {}
        }
      ]
    },
    {
      "cell_type": "code",
      "source": "caught_speeding(70,1)",
      "metadata": {
        "trusted": true
      },
      "execution_count": 13,
      "outputs": [
        {
          "execution_count": 13,
          "output_type": "execute_result",
          "data": {
            "text/plain": "'Small Ticket'"
          },
          "metadata": {}
        }
      ]
    },
    {
      "cell_type": "markdown",
      "source": "Create an employee list with basic salary values(at least 5 values for 5 employees) and using a for loop retreive each employee salary and calculate total salary expenditure.",
      "metadata": {}
    },
    {
      "cell_type": "code",
      "source": "lst=[1000,5000,3000,2000,4000,8000]\nsum=0\nfor i in lst:\n  sum+=i\nprint(\"total salary expenditure:\",sum)",
      "metadata": {
        "trusted": true
      },
      "execution_count": 14,
      "outputs": [
        {
          "name": "stdout",
          "text": "total salary expenditure: 23000\n",
          "output_type": "stream"
        }
      ]
    },
    {
      "cell_type": "markdown",
      "source": "Create two dictionaries in Python:\nFirst one to contain fields as Empid, Empname, Basicpay\nSecond dictionary to contain fields as DeptName, DeptId.\nCombine both dictionaries.",
      "metadata": {}
    },
    {
      "cell_type": "code",
      "source": "d1={\"Empid\":1234, \"Empname\":\"S SAKTHI PRIYA \", \"Basicpay\":100000}\nd2={\"DeptName\":\"ECE\", \"DeptId\":1}",
      "metadata": {
        "trusted": true
      },
      "execution_count": 15,
      "outputs": []
    },
    {
      "cell_type": "code",
      "source": "d3=d1.copy()\nd3.update(d2)\nprint(d3)",
      "metadata": {
        "trusted": true
      },
      "execution_count": 16,
      "outputs": [
        {
          "name": "stdout",
          "text": "{'Empid': 1234, 'Empname': 'S SAKTHI PRIYA ', 'Basicpay': 100000, 'DeptName': 'ECE', 'DeptId': 1}\n",
          "output_type": "stream"
        }
      ]
    }
  ]
}